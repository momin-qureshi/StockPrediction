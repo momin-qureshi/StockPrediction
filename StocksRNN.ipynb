{
  "nbformat": 4,
  "nbformat_minor": 0,
  "metadata": {
    "colab": {
      "name": "StocksRNN",
      "provenance": [],
      "collapsed_sections": []
    },
    "kernelspec": {
      "name": "python3",
      "display_name": "Python 3"
    }
  },
  "cells": [
    {
      "cell_type": "code",
      "metadata": {
        "id": "Lc3DW9jsgzOG",
        "colab": {
          "resources": {
            "http://localhost:8080/nbextensions/google.colab/files.js": {
              "data": "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",
              "ok": true,
              "headers": [
                [
                  "content-type",
                  "application/javascript"
                ]
              ],
              "status": 200,
              "status_text": ""
            }
          },
          "base_uri": "https://localhost:8080/",
          "height": 72
        },
        "outputId": "67bcb451-c1df-4b65-e186-5c52f9b8d693"
      },
      "source": [
        "from google.colab import files\n",
        "import pandas as pd\n",
        "\n",
        "# Upload a file to colab\n",
        "uploaded = files.upload()\n",
        "# Get the name of the file\n",
        "key = list(uploaded.keys())[0]\n",
        "\n",
        "import io\n",
        "# Read that file using pandas library\n",
        "xls = pd.read_excel(io.BytesIO(uploaded[key]), sheet_name=None)"
      ],
      "execution_count": null,
      "outputs": [
        {
          "output_type": "display_data",
          "data": {
            "text/html": [
              "\n",
              "     <input type=\"file\" id=\"files-9ebce227-1fa6-4f4a-b3e1-5dd84c6e721f\" name=\"files[]\" multiple disabled\n",
              "        style=\"border:none\" />\n",
              "     <output id=\"result-9ebce227-1fa6-4f4a-b3e1-5dd84c6e721f\">\n",
              "      Upload widget is only available when the cell has been executed in the\n",
              "      current browser session. Please rerun this cell to enable.\n",
              "      </output>\n",
              "      <script src=\"/nbextensions/google.colab/files.js\"></script> "
            ],
            "text/plain": [
              "<IPython.core.display.HTML object>"
            ]
          },
          "metadata": {
            "tags": []
          }
        },
        {
          "output_type": "stream",
          "text": [
            "Saving Stock Data.xlsx to Stock Data.xlsx\n"
          ],
          "name": "stdout"
        }
      ]
    },
    {
      "cell_type": "code",
      "metadata": {
        "id": "QrMLuzeOi261"
      },
      "source": [
        "# Get the sheet 'GOOGL' from the excel file\n",
        "df = xls['GOOGL']"
      ],
      "execution_count": null,
      "outputs": []
    },
    {
      "cell_type": "code",
      "metadata": {
        "id": "DheeZapBh60A",
        "colab": {
          "base_uri": "https://localhost:8080/",
          "height": 34
        },
        "outputId": "1d5bc0c0-9136-4b61-f6b7-ec1348c32150"
      },
      "source": [
        "# Get the maximum values for each column. This will be used to normalize the data\n",
        "maxVals = {}\n",
        "for col in df.columns:\n",
        "  if col != 'Date':\n",
        "    maxVals[col] = max(df[col]) * 2\n",
        "print(maxVals)"
      ],
      "execution_count": null,
      "outputs": [
        {
          "output_type": "stream",
          "text": [
            "{'Open': 3099.879882, 'High': 3152.71997, 'Low': 3041.95996, 'Close': 3078.02002, 'Adj Close': 3078.02002, 'Volume': 59239800}\n"
          ],
          "name": "stdout"
        }
      ]
    },
    {
      "cell_type": "code",
      "metadata": {
        "id": "9axVtJjIqVIn"
      },
      "source": [
        "# Normalize the data so that all values are between 0 and 1\n",
        "for col in df.columns:\n",
        "  if col != 'Date':\n",
        "    df[col] /= maxVals[col]"
      ],
      "execution_count": null,
      "outputs": []
    },
    {
      "cell_type": "code",
      "metadata": {
        "id": "tPqHYverj-fG",
        "colab": {
          "base_uri": "https://localhost:8080/",
          "height": 419
        },
        "outputId": "bbe88f78-3577-441a-b3b2-57819bfbe706"
      },
      "source": [
        "df"
      ],
      "execution_count": null,
      "outputs": [
        {
          "output_type": "execute_result",
          "data": {
            "text/html": [
              "<div>\n",
              "<style scoped>\n",
              "    .dataframe tbody tr th:only-of-type {\n",
              "        vertical-align: middle;\n",
              "    }\n",
              "\n",
              "    .dataframe tbody tr th {\n",
              "        vertical-align: top;\n",
              "    }\n",
              "\n",
              "    .dataframe thead th {\n",
              "        text-align: right;\n",
              "    }\n",
              "</style>\n",
              "<table border=\"1\" class=\"dataframe\">\n",
              "  <thead>\n",
              "    <tr style=\"text-align: right;\">\n",
              "      <th></th>\n",
              "      <th>Date</th>\n",
              "      <th>Open</th>\n",
              "      <th>High</th>\n",
              "      <th>Low</th>\n",
              "      <th>Close</th>\n",
              "      <th>Adj Close</th>\n",
              "      <th>Volume</th>\n",
              "    </tr>\n",
              "  </thead>\n",
              "  <tbody>\n",
              "    <tr>\n",
              "      <th>0</th>\n",
              "      <td>2010-07-16</td>\n",
              "      <td>0.075743</td>\n",
              "      <td>0.074702</td>\n",
              "      <td>0.075606</td>\n",
              "      <td>0.074735</td>\n",
              "      <td>0.074735</td>\n",
              "      <td>0.263909</td>\n",
              "    </tr>\n",
              "    <tr>\n",
              "      <th>1</th>\n",
              "      <td>2010-07-19</td>\n",
              "      <td>0.074434</td>\n",
              "      <td>0.074558</td>\n",
              "      <td>0.075277</td>\n",
              "      <td>0.075803</td>\n",
              "      <td>0.075803</td>\n",
              "      <td>0.153468</td>\n",
              "    </tr>\n",
              "    <tr>\n",
              "      <th>2</th>\n",
              "      <td>2010-07-20</td>\n",
              "      <td>0.074437</td>\n",
              "      <td>0.076676</td>\n",
              "      <td>0.075784</td>\n",
              "      <td>0.078309</td>\n",
              "      <td>0.078309</td>\n",
              "      <td>0.136746</td>\n",
              "    </tr>\n",
              "    <tr>\n",
              "      <th>3</th>\n",
              "      <td>2010-07-21</td>\n",
              "      <td>0.078146</td>\n",
              "      <td>0.077106</td>\n",
              "      <td>0.078224</td>\n",
              "      <td>0.077644</td>\n",
              "      <td>0.077644</td>\n",
              "      <td>0.110611</td>\n",
              "    </tr>\n",
              "    <tr>\n",
              "      <th>4</th>\n",
              "      <td>2010-07-22</td>\n",
              "      <td>0.078021</td>\n",
              "      <td>0.077627</td>\n",
              "      <td>0.079384</td>\n",
              "      <td>0.078832</td>\n",
              "      <td>0.078832</td>\n",
              "      <td>0.072436</td>\n",
              "    </tr>\n",
              "    <tr>\n",
              "      <th>...</th>\n",
              "      <td>...</td>\n",
              "      <td>...</td>\n",
              "      <td>...</td>\n",
              "      <td>...</td>\n",
              "      <td>...</td>\n",
              "      <td>...</td>\n",
              "      <td>...</td>\n",
              "    </tr>\n",
              "    <tr>\n",
              "      <th>2512</th>\n",
              "      <td>2020-07-09</td>\n",
              "      <td>0.487093</td>\n",
              "      <td>0.485022</td>\n",
              "      <td>0.491653</td>\n",
              "      <td>0.493389</td>\n",
              "      <td>0.493389</td>\n",
              "      <td>0.035311</td>\n",
              "    </tr>\n",
              "    <tr>\n",
              "      <th>2513</th>\n",
              "      <td>2020-07-10</td>\n",
              "      <td>0.488164</td>\n",
              "      <td>0.488892</td>\n",
              "      <td>0.493340</td>\n",
              "      <td>0.500000</td>\n",
              "      <td>0.500000</td>\n",
              "      <td>0.030316</td>\n",
              "    </tr>\n",
              "    <tr>\n",
              "      <th>2514</th>\n",
              "      <td>2020-07-13</td>\n",
              "      <td>0.500000</td>\n",
              "      <td>0.500000</td>\n",
              "      <td>0.495260</td>\n",
              "      <td>0.491300</td>\n",
              "      <td>0.491300</td>\n",
              "      <td>0.036254</td>\n",
              "    </tr>\n",
              "    <tr>\n",
              "      <th>2515</th>\n",
              "      <td>2020-07-14</td>\n",
              "      <td>0.481564</td>\n",
              "      <td>0.483012</td>\n",
              "      <td>0.488478</td>\n",
              "      <td>0.494103</td>\n",
              "      <td>0.494103</td>\n",
              "      <td>0.032164</td>\n",
              "    </tr>\n",
              "    <tr>\n",
              "      <th>2516</th>\n",
              "      <td>2020-07-15</td>\n",
              "      <td>0.491384</td>\n",
              "      <td>0.487303</td>\n",
              "      <td>0.492390</td>\n",
              "      <td>0.492810</td>\n",
              "      <td>0.492810</td>\n",
              "      <td>0.026177</td>\n",
              "    </tr>\n",
              "  </tbody>\n",
              "</table>\n",
              "<p>2517 rows × 7 columns</p>\n",
              "</div>"
            ],
            "text/plain": [
              "           Date      Open      High       Low     Close  Adj Close    Volume\n",
              "0    2010-07-16  0.075743  0.074702  0.075606  0.074735   0.074735  0.263909\n",
              "1    2010-07-19  0.074434  0.074558  0.075277  0.075803   0.075803  0.153468\n",
              "2    2010-07-20  0.074437  0.076676  0.075784  0.078309   0.078309  0.136746\n",
              "3    2010-07-21  0.078146  0.077106  0.078224  0.077644   0.077644  0.110611\n",
              "4    2010-07-22  0.078021  0.077627  0.079384  0.078832   0.078832  0.072436\n",
              "...         ...       ...       ...       ...       ...        ...       ...\n",
              "2512 2020-07-09  0.487093  0.485022  0.491653  0.493389   0.493389  0.035311\n",
              "2513 2020-07-10  0.488164  0.488892  0.493340  0.500000   0.500000  0.030316\n",
              "2514 2020-07-13  0.500000  0.500000  0.495260  0.491300   0.491300  0.036254\n",
              "2515 2020-07-14  0.481564  0.483012  0.488478  0.494103   0.494103  0.032164\n",
              "2516 2020-07-15  0.491384  0.487303  0.492390  0.492810   0.492810  0.026177\n",
              "\n",
              "[2517 rows x 7 columns]"
            ]
          },
          "metadata": {
            "tags": []
          },
          "execution_count": 5
        }
      ]
    },
    {
      "cell_type": "code",
      "metadata": {
        "id": "w4x7cyHth749"
      },
      "source": [
        "# The Y value to predict will be the Adjusted close price\n",
        "Y = df['Adj Close'].values\n",
        "# The input values will be all the values of the previous few days\n",
        "X = df.drop(['Date'], 1).values\n",
        "\n",
        "# The amount of previous days to use for prediction\n",
        "TIME = 7 \n",
        "\n",
        "# Preparing data for sliding window\n",
        "# With sliding window, we include the values of the previous 7 days\n",
        "# So each input to our neural network is an array of inputs \n",
        "\n",
        "# We drop the first 7 days of data\n",
        "series_y = Y[TIME:]\n",
        "\n",
        "# For each day, we add the inputs of the previous 7 days\n",
        "series_x = [X[x:x+TIME] for x in range(0,len(X)-TIME)]"
      ],
      "execution_count": null,
      "outputs": []
    },
    {
      "cell_type": "code",
      "metadata": {
        "id": "QmEqNxqkrLuZ"
      },
      "source": [
        "import tensorflow.keras.backend as K\n",
        "\n",
        "def accuracy(y_true, y_pred):\n",
        "  return K.mean( 1 - K.abs((K.abs(y_true) - K.abs(y_pred)))/K.abs(y_true)  )"
      ],
      "execution_count": null,
      "outputs": []
    },
    {
      "cell_type": "code",
      "metadata": {
        "id": "hRbRa5KIh9Iu",
        "colab": {
          "base_uri": "https://localhost:8080/",
          "height": 425
        },
        "outputId": "55744b92-500b-4d44-e3a7-0140e8d9252f"
      },
      "source": [
        "import tensorflow as tf\n",
        "\n",
        "# Define and compile the LSTM model with optimzer adam and MSE loss function\n",
        "\n",
        "d = 0.2\n",
        "model = tf.keras.Sequential() # Start with a sequential model\n",
        "model.add(tf.keras.layers.LSTM(32, input_shape=(TIME, 6), return_sequences=True)) # Add an LSTML layer\n",
        "model.add(tf.keras.layers.Dropout(d)) # Add a dropout layer\n",
        "model.add(tf.keras.layers.LSTM(16, return_sequences=False)) # Add an LSTML layer\n",
        "model.add(tf.keras.layers.Dropout(d)) # Add a dropout layer\n",
        "model.add(tf.keras.layers.Dense(4)) # Add a dense layer\n",
        "model.add(tf.keras.layers.LeakyReLU(alpha=0.3)) # Add a Leaky Rectified Linear Unit layer\n",
        "model.add(tf.keras.layers.Dense(1)) # Add a dense layer\n",
        "model.add(tf.keras.layers.LeakyReLU(alpha=0.3)) # Add a Leaky Rectified Linear Unit layer\n",
        "model.summary() # Print a summary of the model\n",
        "# Compile with adam optimizer and MSE loss function\n",
        "model.compile(optimizer='adam',loss='mean_squared_error', metrics=[accuracy]) "
      ],
      "execution_count": null,
      "outputs": [
        {
          "output_type": "stream",
          "text": [
            "Model: \"sequential_11\"\n",
            "_________________________________________________________________\n",
            "Layer (type)                 Output Shape              Param #   \n",
            "=================================================================\n",
            "lstm_22 (LSTM)               (None, 7, 32)             4992      \n",
            "_________________________________________________________________\n",
            "dropout_22 (Dropout)         (None, 7, 32)             0         \n",
            "_________________________________________________________________\n",
            "lstm_23 (LSTM)               (None, 16)                3136      \n",
            "_________________________________________________________________\n",
            "dropout_23 (Dropout)         (None, 16)                0         \n",
            "_________________________________________________________________\n",
            "dense_22 (Dense)             (None, 4)                 68        \n",
            "_________________________________________________________________\n",
            "leaky_re_lu_22 (LeakyReLU)   (None, 4)                 0         \n",
            "_________________________________________________________________\n",
            "dense_23 (Dense)             (None, 1)                 5         \n",
            "_________________________________________________________________\n",
            "leaky_re_lu_23 (LeakyReLU)   (None, 1)                 0         \n",
            "=================================================================\n",
            "Total params: 8,201\n",
            "Trainable params: 8,201\n",
            "Non-trainable params: 0\n",
            "_________________________________________________________________\n"
          ],
          "name": "stdout"
        }
      ]
    },
    {
      "cell_type": "code",
      "metadata": {
        "id": "f-5FEhKx8ZWq",
        "colab": {
          "base_uri": "https://localhost:8080/",
          "height": 493
        },
        "outputId": "4512e411-0c3b-4ee8-b26e-8fcf0a6d4605"
      },
      "source": [
        "import tensorflow as tf\n",
        "\n",
        "# Define and compile the CNN-LSTM Hybrid model with optimzer adam and MSE loss function\n",
        "\n",
        "d = 0.2\n",
        "cnnmodel = tf.keras.Sequential() # Start with a sequential model\n",
        "cnnmodel.add(tf.keras.layers.Conv1D(activation='relu',filters=6, kernel_size=6, input_shape=(TIME, 6)))  # Add a 1D convolution layer\n",
        "cnnmodel.add(tf.keras.layers.MaxPooling1D(pool_size=2)) # Add a max pooling layer\n",
        "cnnmodel.add(tf.keras.layers.LSTM(32, return_sequences=True)) # Add an LSTML layer\n",
        "cnnmodel.add(tf.keras.layers.Dropout(d)) # Add a dropout layer\n",
        "cnnmodel.add(tf.keras.layers.LSTM(16, return_sequences=False)) # Add an LSTML layer\n",
        "cnnmodel.add(tf.keras.layers.Dropout(d)) # Add a dropout layer\n",
        "cnnmodel.add(tf.keras.layers.Dense(4)) # Add a dense layer\n",
        "cnnmodel.add(tf.keras.layers.LeakyReLU(alpha=0.3)) # Add a Leaky Rectified Linear Unit layer\n",
        "cnnmodel.add(tf.keras.layers.Dense(1)) # Add a dense layer\n",
        "cnnmodel.add(tf.keras.layers.LeakyReLU(alpha=0.3)) # Add a Leaky Rectified Linear Unit layer\n",
        "cnnmodel.summary() # Print a summary of the model\n",
        "# Compile with adam optimizer and MSE loss function\n",
        "cnnmodel.compile(optimizer='adam',loss='mean_squared_error', metrics =[accuracy])"
      ],
      "execution_count": null,
      "outputs": [
        {
          "output_type": "stream",
          "text": [
            "Model: \"sequential_2\"\n",
            "_________________________________________________________________\n",
            "Layer (type)                 Output Shape              Param #   \n",
            "=================================================================\n",
            "conv1d_2 (Conv1D)            (None, 2, 6)              222       \n",
            "_________________________________________________________________\n",
            "max_pooling1d_2 (MaxPooling1 (None, 1, 6)              0         \n",
            "_________________________________________________________________\n",
            "lstm_2 (LSTM)                (None, 1, 32)             4992      \n",
            "_________________________________________________________________\n",
            "dropout_2 (Dropout)          (None, 1, 32)             0         \n",
            "_________________________________________________________________\n",
            "lstm_3 (LSTM)                (None, 16)                3136      \n",
            "_________________________________________________________________\n",
            "dropout_3 (Dropout)          (None, 16)                0         \n",
            "_________________________________________________________________\n",
            "dense_2 (Dense)              (None, 4)                 68        \n",
            "_________________________________________________________________\n",
            "leaky_re_lu_2 (LeakyReLU)    (None, 4)                 0         \n",
            "_________________________________________________________________\n",
            "dense_3 (Dense)              (None, 1)                 5         \n",
            "_________________________________________________________________\n",
            "leaky_re_lu_3 (LeakyReLU)    (None, 1)                 0         \n",
            "=================================================================\n",
            "Total params: 8,423\n",
            "Trainable params: 8,423\n",
            "Non-trainable params: 0\n",
            "_________________________________________________________________\n"
          ],
          "name": "stdout"
        }
      ]
    },
    {
      "cell_type": "code",
      "metadata": {
        "id": "jCs8gNndh-3O"
      },
      "source": [
        "import numpy as np\n",
        "\n",
        "# Spliting data into train and test data with 90% data for training and 10% for testing\n",
        "n = len(series_x)\n",
        "# This defines the ratio of train to test data\n",
        "split = 0.9\n",
        "# Use the first 90% as train input\n",
        "train_x = np.array(series_x[:int(n*split)])\n",
        "# Use the first 90% as test input\n",
        "test_x = np.array(series_x[int(n*split):])\n",
        "# Use the last 10% as train output\n",
        "train_y = np.array(series_y[:int(n*split)])\n",
        "# Use the last 10% as test output\n",
        "test_y = np.array(series_y[int(n*split):])\n"
      ],
      "execution_count": null,
      "outputs": []
    },
    {
      "cell_type": "code",
      "metadata": {
        "id": "dqgHiCd0iAF_",
        "colab": {
          "base_uri": "https://localhost:8080/",
          "height": 51
        },
        "outputId": "ebd7185a-b8e8-4888-c5f4-d699d0795674"
      },
      "source": [
        "print(train_x.shape, train_y.shape)\n",
        "print(test_x.shape, test_y.shape)"
      ],
      "execution_count": null,
      "outputs": [
        {
          "output_type": "stream",
          "text": [
            "(2259, 7, 6) (2259,)\n",
            "(251, 7, 6) (251,)\n"
          ],
          "name": "stdout"
        }
      ]
    },
    {
      "cell_type": "code",
      "metadata": {
        "id": "h2PMMbWciBXV",
        "colab": {
          "base_uri": "https://localhost:8080/",
          "height": 1000
        },
        "outputId": "8eb10284-8d20-4acc-db53-6e226b5511f1"
      },
      "source": [
        "# Train the LSTM model for 100 epochs\n",
        "history = model.fit(train_x, train_y, epochs=100, validation_data=(test_x, test_y))"
      ],
      "execution_count": null,
      "outputs": [
        {
          "output_type": "stream",
          "text": [
            "Epoch 1/100\n",
            "71/71 [==============================] - 1s 15ms/step - loss: 0.0081 - accuracy: 0.6618 - val_loss: 6.6303e-04 - val_accuracy: 0.9453\n",
            "Epoch 2/100\n",
            "71/71 [==============================] - 0s 6ms/step - loss: 0.0014 - accuracy: 0.8791 - val_loss: 1.9309e-04 - val_accuracy: 0.9769\n",
            "Epoch 3/100\n",
            "71/71 [==============================] - 0s 7ms/step - loss: 0.0010 - accuracy: 0.8954 - val_loss: 5.1702e-04 - val_accuracy: 0.9525\n",
            "Epoch 4/100\n",
            "71/71 [==============================] - 0s 6ms/step - loss: 8.5636e-04 - accuracy: 0.9039 - val_loss: 8.2075e-04 - val_accuracy: 0.9380\n",
            "Epoch 5/100\n",
            "71/71 [==============================] - 0s 7ms/step - loss: 6.7956e-04 - accuracy: 0.9143 - val_loss: 5.2793e-04 - val_accuracy: 0.9521\n",
            "Epoch 6/100\n",
            "71/71 [==============================] - 0s 7ms/step - loss: 5.2698e-04 - accuracy: 0.9250 - val_loss: 4.0119e-04 - val_accuracy: 0.9595\n",
            "Epoch 7/100\n",
            "71/71 [==============================] - 0s 7ms/step - loss: 4.8398e-04 - accuracy: 0.9288 - val_loss: 9.5720e-04 - val_accuracy: 0.9329\n",
            "Epoch 8/100\n",
            "71/71 [==============================] - 0s 6ms/step - loss: 3.8884e-04 - accuracy: 0.9347 - val_loss: 3.7589e-04 - val_accuracy: 0.9612\n",
            "Epoch 9/100\n",
            "71/71 [==============================] - 0s 7ms/step - loss: 3.9254e-04 - accuracy: 0.9347 - val_loss: 8.2918e-04 - val_accuracy: 0.9382\n",
            "Epoch 10/100\n",
            "71/71 [==============================] - 0s 6ms/step - loss: 3.1080e-04 - accuracy: 0.9398 - val_loss: 7.2638e-04 - val_accuracy: 0.9427\n",
            "Epoch 11/100\n",
            "71/71 [==============================] - 0s 6ms/step - loss: 2.9798e-04 - accuracy: 0.9401 - val_loss: 2.3078e-04 - val_accuracy: 0.9723\n",
            "Epoch 12/100\n",
            "71/71 [==============================] - 0s 6ms/step - loss: 2.9192e-04 - accuracy: 0.9393 - val_loss: 4.1887e-04 - val_accuracy: 0.9589\n",
            "Epoch 13/100\n",
            "71/71 [==============================] - 0s 6ms/step - loss: 2.6296e-04 - accuracy: 0.9424 - val_loss: 7.0125e-04 - val_accuracy: 0.9443\n",
            "Epoch 14/100\n",
            "71/71 [==============================] - 0s 6ms/step - loss: 2.5319e-04 - accuracy: 0.9398 - val_loss: 3.9826e-04 - val_accuracy: 0.9601\n",
            "Epoch 15/100\n",
            "71/71 [==============================] - 0s 6ms/step - loss: 2.4383e-04 - accuracy: 0.9413 - val_loss: 3.4556e-04 - val_accuracy: 0.9638\n",
            "Epoch 16/100\n",
            "71/71 [==============================] - 0s 6ms/step - loss: 2.3615e-04 - accuracy: 0.9396 - val_loss: 5.3333e-04 - val_accuracy: 0.9529\n",
            "Epoch 17/100\n",
            "71/71 [==============================] - 0s 6ms/step - loss: 2.3593e-04 - accuracy: 0.9389 - val_loss: 5.7411e-04 - val_accuracy: 0.9509\n",
            "Epoch 18/100\n",
            "71/71 [==============================] - 0s 7ms/step - loss: 2.1436e-04 - accuracy: 0.9403 - val_loss: 4.8784e-04 - val_accuracy: 0.9554\n",
            "Epoch 19/100\n",
            "71/71 [==============================] - 0s 6ms/step - loss: 2.1715e-04 - accuracy: 0.9411 - val_loss: 7.5340e-04 - val_accuracy: 0.9429\n",
            "Epoch 20/100\n",
            "71/71 [==============================] - 0s 6ms/step - loss: 2.1428e-04 - accuracy: 0.9401 - val_loss: 3.0222e-04 - val_accuracy: 0.9669\n",
            "Epoch 21/100\n",
            "71/71 [==============================] - 0s 6ms/step - loss: 2.2223e-04 - accuracy: 0.9378 - val_loss: 4.2734e-04 - val_accuracy: 0.9591\n",
            "Epoch 22/100\n",
            "71/71 [==============================] - 0s 7ms/step - loss: 2.2436e-04 - accuracy: 0.9380 - val_loss: 6.3263e-04 - val_accuracy: 0.9485\n",
            "Epoch 23/100\n",
            "71/71 [==============================] - 0s 7ms/step - loss: 2.0107e-04 - accuracy: 0.9414 - val_loss: 4.6670e-04 - val_accuracy: 0.9575\n",
            "Epoch 24/100\n",
            "71/71 [==============================] - 0s 7ms/step - loss: 2.0179e-04 - accuracy: 0.9412 - val_loss: 3.5352e-04 - val_accuracy: 0.9639\n",
            "Epoch 25/100\n",
            "71/71 [==============================] - 0s 7ms/step - loss: 1.9622e-04 - accuracy: 0.9413 - val_loss: 3.8256e-04 - val_accuracy: 0.9623\n",
            "Epoch 26/100\n",
            "71/71 [==============================] - 0s 6ms/step - loss: 1.9884e-04 - accuracy: 0.9401 - val_loss: 4.6935e-04 - val_accuracy: 0.9570\n",
            "Epoch 27/100\n",
            "71/71 [==============================] - 0s 6ms/step - loss: 2.1880e-04 - accuracy: 0.9373 - val_loss: 0.0010 - val_accuracy: 0.9334\n",
            "Epoch 28/100\n",
            "71/71 [==============================] - 0s 6ms/step - loss: 1.9659e-04 - accuracy: 0.9416 - val_loss: 2.8963e-04 - val_accuracy: 0.9679\n",
            "Epoch 29/100\n",
            "71/71 [==============================] - 0s 7ms/step - loss: 2.1145e-04 - accuracy: 0.9373 - val_loss: 5.6804e-04 - val_accuracy: 0.9515\n",
            "Epoch 30/100\n",
            "71/71 [==============================] - 0s 6ms/step - loss: 2.0740e-04 - accuracy: 0.9384 - val_loss: 4.8676e-04 - val_accuracy: 0.9561\n",
            "Epoch 31/100\n",
            "71/71 [==============================] - 0s 7ms/step - loss: 2.0813e-04 - accuracy: 0.9381 - val_loss: 4.0164e-04 - val_accuracy: 0.9611\n",
            "Epoch 32/100\n",
            "71/71 [==============================] - 0s 6ms/step - loss: 2.1211e-04 - accuracy: 0.9386 - val_loss: 7.0195e-04 - val_accuracy: 0.9458\n",
            "Epoch 33/100\n",
            "71/71 [==============================] - 0s 7ms/step - loss: 2.0265e-04 - accuracy: 0.9400 - val_loss: 3.1622e-04 - val_accuracy: 0.9660\n",
            "Epoch 34/100\n",
            "71/71 [==============================] - 0s 6ms/step - loss: 1.9397e-04 - accuracy: 0.9409 - val_loss: 6.4038e-04 - val_accuracy: 0.9480\n",
            "Epoch 35/100\n",
            "71/71 [==============================] - 0s 7ms/step - loss: 1.9370e-04 - accuracy: 0.9421 - val_loss: 3.9437e-04 - val_accuracy: 0.9613\n",
            "Epoch 36/100\n",
            "71/71 [==============================] - 0s 6ms/step - loss: 1.9841e-04 - accuracy: 0.9397 - val_loss: 5.6467e-04 - val_accuracy: 0.9519\n",
            "Epoch 37/100\n",
            "71/71 [==============================] - 0s 7ms/step - loss: 1.8023e-04 - accuracy: 0.9426 - val_loss: 3.1905e-04 - val_accuracy: 0.9659\n",
            "Epoch 38/100\n",
            "71/71 [==============================] - 0s 7ms/step - loss: 2.0750e-04 - accuracy: 0.9401 - val_loss: 4.0707e-04 - val_accuracy: 0.9610\n",
            "Epoch 39/100\n",
            "71/71 [==============================] - 0s 6ms/step - loss: 1.9721e-04 - accuracy: 0.9395 - val_loss: 5.2998e-04 - val_accuracy: 0.9539\n",
            "Epoch 40/100\n",
            "71/71 [==============================] - 0s 7ms/step - loss: 1.8790e-04 - accuracy: 0.9407 - val_loss: 5.2973e-04 - val_accuracy: 0.9549\n",
            "Epoch 41/100\n",
            "71/71 [==============================] - 0s 6ms/step - loss: 2.1291e-04 - accuracy: 0.9399 - val_loss: 6.0694e-04 - val_accuracy: 0.9505\n",
            "Epoch 42/100\n",
            "71/71 [==============================] - 0s 6ms/step - loss: 1.8922e-04 - accuracy: 0.9420 - val_loss: 4.8792e-04 - val_accuracy: 0.9565\n",
            "Epoch 43/100\n",
            "71/71 [==============================] - 0s 7ms/step - loss: 1.9129e-04 - accuracy: 0.9403 - val_loss: 4.3129e-04 - val_accuracy: 0.9596\n",
            "Epoch 44/100\n",
            "71/71 [==============================] - 0s 7ms/step - loss: 1.7733e-04 - accuracy: 0.9434 - val_loss: 3.3970e-04 - val_accuracy: 0.9649\n",
            "Epoch 45/100\n",
            "71/71 [==============================] - 0s 7ms/step - loss: 1.8340e-04 - accuracy: 0.9408 - val_loss: 3.9878e-04 - val_accuracy: 0.9615\n",
            "Epoch 46/100\n",
            "71/71 [==============================] - 0s 7ms/step - loss: 1.8319e-04 - accuracy: 0.9425 - val_loss: 8.8338e-04 - val_accuracy: 0.9379\n",
            "Epoch 47/100\n",
            "71/71 [==============================] - 0s 6ms/step - loss: 1.9100e-04 - accuracy: 0.9410 - val_loss: 7.1972e-04 - val_accuracy: 0.9442\n",
            "Epoch 48/100\n",
            "71/71 [==============================] - 0s 7ms/step - loss: 2.0194e-04 - accuracy: 0.9407 - val_loss: 3.8445e-04 - val_accuracy: 0.9620\n",
            "Epoch 49/100\n",
            "71/71 [==============================] - 0s 7ms/step - loss: 1.8442e-04 - accuracy: 0.9420 - val_loss: 3.3458e-04 - val_accuracy: 0.9648\n",
            "Epoch 50/100\n",
            "71/71 [==============================] - 0s 6ms/step - loss: 1.8898e-04 - accuracy: 0.9409 - val_loss: 6.9308e-04 - val_accuracy: 0.9462\n",
            "Epoch 51/100\n",
            "71/71 [==============================] - 0s 7ms/step - loss: 1.7877e-04 - accuracy: 0.9425 - val_loss: 3.9295e-04 - val_accuracy: 0.9618\n",
            "Epoch 52/100\n",
            "71/71 [==============================] - 0s 6ms/step - loss: 1.7236e-04 - accuracy: 0.9433 - val_loss: 5.7436e-04 - val_accuracy: 0.9518\n",
            "Epoch 53/100\n",
            "71/71 [==============================] - 0s 7ms/step - loss: 1.7147e-04 - accuracy: 0.9438 - val_loss: 7.2118e-04 - val_accuracy: 0.9444\n",
            "Epoch 54/100\n",
            "71/71 [==============================] - 0s 6ms/step - loss: 2.0336e-04 - accuracy: 0.9397 - val_loss: 9.3602e-04 - val_accuracy: 0.9358\n",
            "Epoch 55/100\n",
            "71/71 [==============================] - 0s 6ms/step - loss: 1.8568e-04 - accuracy: 0.9426 - val_loss: 3.9554e-04 - val_accuracy: 0.9612\n",
            "Epoch 56/100\n",
            "71/71 [==============================] - 0s 7ms/step - loss: 1.8262e-04 - accuracy: 0.9426 - val_loss: 5.8437e-04 - val_accuracy: 0.9510\n",
            "Epoch 57/100\n",
            "71/71 [==============================] - 0s 6ms/step - loss: 1.6811e-04 - accuracy: 0.9453 - val_loss: 5.3925e-04 - val_accuracy: 0.9536\n",
            "Epoch 58/100\n",
            "71/71 [==============================] - 0s 6ms/step - loss: 1.7528e-04 - accuracy: 0.9449 - val_loss: 6.3420e-04 - val_accuracy: 0.9484\n",
            "Epoch 59/100\n",
            "71/71 [==============================] - 0s 6ms/step - loss: 1.8090e-04 - accuracy: 0.9428 - val_loss: 6.3368e-04 - val_accuracy: 0.9485\n",
            "Epoch 60/100\n",
            "71/71 [==============================] - 0s 6ms/step - loss: 1.6801e-04 - accuracy: 0.9452 - val_loss: 3.8473e-04 - val_accuracy: 0.9619\n",
            "Epoch 61/100\n",
            "71/71 [==============================] - 0s 7ms/step - loss: 1.8471e-04 - accuracy: 0.9437 - val_loss: 5.8413e-04 - val_accuracy: 0.9515\n",
            "Epoch 62/100\n",
            "71/71 [==============================] - 0s 6ms/step - loss: 1.7659e-04 - accuracy: 0.9416 - val_loss: 5.8558e-04 - val_accuracy: 0.9514\n",
            "Epoch 63/100\n",
            "71/71 [==============================] - 0s 6ms/step - loss: 1.7825e-04 - accuracy: 0.9434 - val_loss: 6.6914e-04 - val_accuracy: 0.9473\n",
            "Epoch 64/100\n",
            "71/71 [==============================] - 0s 7ms/step - loss: 1.6902e-04 - accuracy: 0.9445 - val_loss: 6.4792e-04 - val_accuracy: 0.9485\n",
            "Epoch 65/100\n",
            "71/71 [==============================] - 0s 7ms/step - loss: 1.6964e-04 - accuracy: 0.9442 - val_loss: 7.7454e-04 - val_accuracy: 0.9423\n",
            "Epoch 66/100\n",
            "71/71 [==============================] - 0s 6ms/step - loss: 1.7648e-04 - accuracy: 0.9433 - val_loss: 9.2142e-04 - val_accuracy: 0.9360\n",
            "Epoch 67/100\n",
            "71/71 [==============================] - 0s 6ms/step - loss: 1.8200e-04 - accuracy: 0.9435 - val_loss: 7.8518e-04 - val_accuracy: 0.9419\n",
            "Epoch 68/100\n",
            "71/71 [==============================] - 0s 7ms/step - loss: 1.7654e-04 - accuracy: 0.9438 - val_loss: 7.4486e-04 - val_accuracy: 0.9437\n",
            "Epoch 69/100\n",
            "71/71 [==============================] - 0s 6ms/step - loss: 1.7540e-04 - accuracy: 0.9436 - val_loss: 5.8299e-04 - val_accuracy: 0.9514\n",
            "Epoch 70/100\n",
            "71/71 [==============================] - 0s 7ms/step - loss: 1.6366e-04 - accuracy: 0.9450 - val_loss: 7.6287e-04 - val_accuracy: 0.9429\n",
            "Epoch 71/100\n",
            "71/71 [==============================] - 0s 7ms/step - loss: 1.6228e-04 - accuracy: 0.9442 - val_loss: 9.5226e-04 - val_accuracy: 0.9356\n",
            "Epoch 72/100\n",
            "71/71 [==============================] - 0s 6ms/step - loss: 1.6737e-04 - accuracy: 0.9449 - val_loss: 0.0014 - val_accuracy: 0.9205\n",
            "Epoch 73/100\n",
            "71/71 [==============================] - 0s 7ms/step - loss: 1.6919e-04 - accuracy: 0.9458 - val_loss: 5.0178e-04 - val_accuracy: 0.9554\n",
            "Epoch 74/100\n",
            "71/71 [==============================] - 0s 7ms/step - loss: 1.6490e-04 - accuracy: 0.9458 - val_loss: 6.3019e-04 - val_accuracy: 0.9492\n",
            "Epoch 75/100\n",
            "71/71 [==============================] - 0s 7ms/step - loss: 1.6521e-04 - accuracy: 0.9451 - val_loss: 9.2722e-04 - val_accuracy: 0.9362\n",
            "Epoch 76/100\n",
            "71/71 [==============================] - 0s 6ms/step - loss: 1.6369e-04 - accuracy: 0.9449 - val_loss: 3.4251e-04 - val_accuracy: 0.9643\n",
            "Epoch 77/100\n",
            "71/71 [==============================] - 0s 6ms/step - loss: 1.6503e-04 - accuracy: 0.9458 - val_loss: 5.3942e-04 - val_accuracy: 0.9529\n",
            "Epoch 78/100\n",
            "71/71 [==============================] - 0s 7ms/step - loss: 1.6241e-04 - accuracy: 0.9468 - val_loss: 8.5955e-04 - val_accuracy: 0.9390\n",
            "Epoch 79/100\n",
            "71/71 [==============================] - 0s 6ms/step - loss: 1.5880e-04 - accuracy: 0.9465 - val_loss: 4.6155e-04 - val_accuracy: 0.9569\n",
            "Epoch 80/100\n",
            "71/71 [==============================] - 0s 6ms/step - loss: 1.5318e-04 - accuracy: 0.9462 - val_loss: 7.4336e-04 - val_accuracy: 0.9432\n",
            "Epoch 81/100\n",
            "71/71 [==============================] - 0s 7ms/step - loss: 1.5447e-04 - accuracy: 0.9483 - val_loss: 9.9507e-04 - val_accuracy: 0.9337\n",
            "Epoch 82/100\n",
            "71/71 [==============================] - 0s 7ms/step - loss: 1.5406e-04 - accuracy: 0.9483 - val_loss: 9.9538e-04 - val_accuracy: 0.9332\n",
            "Epoch 83/100\n",
            "71/71 [==============================] - 0s 7ms/step - loss: 1.5251e-04 - accuracy: 0.9470 - val_loss: 8.8196e-04 - val_accuracy: 0.9384\n",
            "Epoch 84/100\n",
            "71/71 [==============================] - 0s 6ms/step - loss: 1.5709e-04 - accuracy: 0.9483 - val_loss: 0.0011 - val_accuracy: 0.9309\n",
            "Epoch 85/100\n",
            "71/71 [==============================] - 0s 6ms/step - loss: 1.4104e-04 - accuracy: 0.9494 - val_loss: 8.0252e-04 - val_accuracy: 0.9406\n",
            "Epoch 86/100\n",
            "71/71 [==============================] - 0s 6ms/step - loss: 1.5719e-04 - accuracy: 0.9488 - val_loss: 5.2767e-04 - val_accuracy: 0.9541\n",
            "Epoch 87/100\n",
            "71/71 [==============================] - 0s 6ms/step - loss: 1.6756e-04 - accuracy: 0.9450 - val_loss: 8.8134e-04 - val_accuracy: 0.9380\n",
            "Epoch 88/100\n",
            "71/71 [==============================] - 0s 7ms/step - loss: 1.3975e-04 - accuracy: 0.9499 - val_loss: 6.1490e-04 - val_accuracy: 0.9495\n",
            "Epoch 89/100\n",
            "71/71 [==============================] - 0s 6ms/step - loss: 1.4468e-04 - accuracy: 0.9505 - val_loss: 0.0013 - val_accuracy: 0.9209\n",
            "Epoch 90/100\n",
            "71/71 [==============================] - 0s 7ms/step - loss: 1.3479e-04 - accuracy: 0.9517 - val_loss: 0.0010 - val_accuracy: 0.9330\n",
            "Epoch 91/100\n",
            "71/71 [==============================] - 0s 7ms/step - loss: 1.3779e-04 - accuracy: 0.9515 - val_loss: 7.9140e-04 - val_accuracy: 0.9419\n",
            "Epoch 92/100\n",
            "71/71 [==============================] - 0s 7ms/step - loss: 1.2607e-04 - accuracy: 0.9511 - val_loss: 9.0995e-04 - val_accuracy: 0.9372\n",
            "Epoch 93/100\n",
            "71/71 [==============================] - 0s 6ms/step - loss: 1.2438e-04 - accuracy: 0.9552 - val_loss: 0.0015 - val_accuracy: 0.9173\n",
            "Epoch 94/100\n",
            "71/71 [==============================] - 0s 6ms/step - loss: 1.4347e-04 - accuracy: 0.9513 - val_loss: 0.0012 - val_accuracy: 0.9260\n",
            "Epoch 95/100\n",
            "71/71 [==============================] - 0s 7ms/step - loss: 1.3448e-04 - accuracy: 0.9538 - val_loss: 0.0012 - val_accuracy: 0.9257\n",
            "Epoch 96/100\n",
            "71/71 [==============================] - 0s 7ms/step - loss: 1.2522e-04 - accuracy: 0.9525 - val_loss: 0.0012 - val_accuracy: 0.9275\n",
            "Epoch 97/100\n",
            "71/71 [==============================] - 0s 7ms/step - loss: 1.3406e-04 - accuracy: 0.9545 - val_loss: 0.0016 - val_accuracy: 0.9145\n",
            "Epoch 98/100\n",
            "71/71 [==============================] - 0s 7ms/step - loss: 1.2301e-04 - accuracy: 0.9547 - val_loss: 0.0012 - val_accuracy: 0.9267\n",
            "Epoch 99/100\n",
            "71/71 [==============================] - 0s 6ms/step - loss: 1.2149e-04 - accuracy: 0.9545 - val_loss: 0.0014 - val_accuracy: 0.9198\n",
            "Epoch 100/100\n",
            "71/71 [==============================] - 0s 7ms/step - loss: 1.2066e-04 - accuracy: 0.9544 - val_loss: 0.0011 - val_accuracy: 0.9322\n"
          ],
          "name": "stdout"
        }
      ]
    },
    {
      "cell_type": "code",
      "metadata": {
        "id": "Af459Qfbu1me",
        "colab": {
          "base_uri": "https://localhost:8080/",
          "height": 54
        },
        "outputId": "1b20457f-3f71-4c45-b85f-ebc4ebb3e60b"
      },
      "source": [
        ""
      ],
      "execution_count": null,
      "outputs": [
        {
          "output_type": "stream",
          "text": [
            "[0.943728506565094, 0.9452704787254333, 0.9461615085601807, 0.94530189037323, 0.9485409259796143, 0.9457006454467773, 0.9458473920822144, 0.9458644986152649, 0.9471798539161682, 0.9456391930580139, 0.9451906681060791, 0.9485213756561279, 0.9457910060882568, 0.9475277066230774, 0.9463927745819092, 0.9454118013381958, 0.9474818110466003, 0.9475995898246765, 0.9464765787124634, 0.9486476182937622, 0.9476590156555176, 0.9482787251472473, 0.9478869438171387, 0.9479532241821289, 0.9477730393409729, 0.9470020532608032, 0.9493640065193176, 0.9491810202598572, 0.948240339756012, 0.947738528251648, 0.9508606791496277, 0.9492064714431763, 0.9497469067573547, 0.9497060775756836, 0.9485563039779663, 0.9486650228500366, 0.9499966502189636, 0.9504017233848572, 0.9513287544250488, 0.9488207101821899, 0.9505866765975952, 0.9506652355194092, 0.9528464674949646, 0.9508652091026306, 0.950773298740387, 0.9493982195854187, 0.9514288306236267, 0.9518479704856873, 0.9530915021896362, 0.9512103199958801, 0.9520812630653381, 0.9518885016441345, 0.9524929523468018, 0.9543671011924744, 0.955093264579773, 0.9536153078079224, 0.952758252620697, 0.9550492167472839, 0.9515433311462402, 0.9512816071510315, 0.9548671841621399, 0.9557893872261047, 0.9551401138305664, 0.9551938772201538, 0.954738438129425, 0.9539029598236084, 0.9552289843559265, 0.955240786075592, 0.9572136998176575, 0.9567630290985107, 0.9559081196784973, 0.9590578675270081, 0.9571371078491211, 0.9569149613380432, 0.9571471810340881, 0.9575918316841125, 0.956589937210083, 0.9551483988761902, 0.9575304985046387, 0.9577067494392395, 0.9555365443229675, 0.9557579755783081, 0.9582289457321167, 0.9582743048667908, 0.9595374464988708, 0.9590336084365845, 0.9590151906013489, 0.959302544593811, 0.9573473930358887, 0.9586423635482788, 0.9593836665153503, 0.9604083895683289, 0.9604125618934631, 0.9591971635818481, 0.959928035736084, 0.958649218082428, 0.9610045552253723, 0.9578569531440735, 0.9568812251091003, 0.9590898156166077]\n"
          ],
          "name": "stdout"
        }
      ]
    },
    {
      "cell_type": "code",
      "metadata": {
        "id": "ZeqZezGdDx5f",
        "colab": {
          "base_uri": "https://localhost:8080/",
          "height": 513
        },
        "outputId": "3603cf83-17c0-4d51-f737-6b7471ebeabf"
      },
      "source": [
        "# Displaying the loss graph\n",
        "\n",
        "import matplotlib.pyplot as plt\n",
        "# Plot the Loss values\n",
        "plt.plot(history.history['loss'])\n",
        "# Label the Y value as Loss\n",
        "plt.ylabel('Loss')\n",
        "# Label the graph as Loss\n",
        "plt.legend(['Loss'])\n",
        "plt.show()\n",
        "\n",
        "# Displaying the Accuracy graph\n",
        "\n",
        "import matplotlib.pyplot as plt\n",
        "# Plot the accuracy values\n",
        "plt.plot(history.history['accuracy'], color='r')\n",
        "# Label the Y value as accuracy\n",
        "plt.ylabel('Accuracy')\n",
        "# Label the graph as accuracy\n",
        "plt.legend(['Accuracy'])\n",
        "plt.show()"
      ],
      "execution_count": null,
      "outputs": [
        {
          "output_type": "display_data",
          "data": {
            "image/png": "[encoded data removed]",
            "text/plain": [
              "<Figure size 432x288 with 1 Axes>"
            ]
          },
          "metadata": {
            "tags": [],
            "needs_background": "light"
          }
        },
        {
          "output_type": "display_data",
          "data": {
            "image/png": "[encoded data removed]",
            "text/plain": [
              "<Figure size 432x288 with 1 Axes>"
            ]
          },
          "metadata": {
            "tags": [],
            "needs_background": "light"
          }
        }
      ]
    },
    {
      "cell_type": "code",
      "metadata": {
        "id": "YQ-ptyzDGe7y",
        "colab": {
          "base_uri": "https://localhost:8080/",
          "height": 51
        },
        "outputId": "8c0c3651-473c-4802-99aa-91206696b755"
      },
      "source": [
        "test_loss = model.evaluate(test_x, test_y)\n",
        "print(\"Test Loss for LSTM:\\t\", test_loss)"
      ],
      "execution_count": null,
      "outputs": [
        {
          "output_type": "stream",
          "text": [
            "8/8 [==============================] - 0s 2ms/step - loss: 6.2615e-04\n",
            "Test Loss for LSTM:\t 0.0006261529051698744\n"
          ],
          "name": "stdout"
        }
      ]
    },
    {
      "cell_type": "code",
      "metadata": {
        "id": "4Q1FJ_QLiFDt",
        "colab": {
          "base_uri": "https://localhost:8080/",
          "height": 286
        },
        "outputId": "e173d1b2-affc-44d1-c872-bace08dda150"
      },
      "source": [
        "# Get predictions from the trained hybrid model\n",
        "predictions = model.predict(np.array(series_x))\n",
        "\n",
        "# Multiply the predictions by the max value to get the original value since these are normalized\n",
        "predictions = predictions.flatten()*maxVals['Adj Close']\n",
        "\n",
        "# Get the actual values\n",
        "actual = series_y*maxVals['Adj Close']\n",
        "\n",
        "print(predictions.shape)\n",
        "\n",
        "# Plot the two graphs\n",
        "\n",
        "import matplotlib.pyplot as plt\n",
        "# Plot the predictions\n",
        "plt.plot(predictions)\n",
        "# Plot the actual values\n",
        "plt.plot(actual)\n",
        "# Label the Y axis as Stock Price\n",
        "plt.ylabel('Stock Price')\n",
        "# Label the plots as predictions and actual\n",
        "plt.legend(['Predictions', 'Actual'])\n",
        "plt.show()"
      ],
      "execution_count": null,
      "outputs": [
        {
          "output_type": "stream",
          "text": [
            "(2510,)\n"
          ],
          "name": "stdout"
        },
        {
          "output_type": "display_data",
          "data": {
            "image/png": "[encoded data removed]",
            "text/plain": [
              "<Figure size 432x288 with 1 Axes>"
            ]
          },
          "metadata": {
            "tags": [],
            "needs_background": "light"
          }
        }
      ]
    },
    {
      "cell_type": "code",
      "metadata": {
        "id": "WQtosKN1tn6S",
        "colab": {
          "base_uri": "https://localhost:8080/",
          "height": 316
        },
        "outputId": "5d17ba0d-a8dd-4f69-9906-ac55ecb0b6e6"
      },
      "source": [
        "# Calculating the abnormal returns for each prediction\n",
        "diff = np.array([actual[i]-predictions[i] for i in range(len(predictions))])\n",
        "\n",
        "abnormalities_x = []\n",
        "abnormalities_y = []\n",
        "\n",
        "# Set a threshold for abnornality\n",
        "thres = sum(abs(diff))/len(diff)\n",
        "\n",
        "# Iterate over all the differences\n",
        "for i in range(1,len(diff)):\n",
        "  # If difference is greater than threshold, add it to the abnormalities array to be plotted later\n",
        "  if abs(diff[i]) - abs(diff[i-1]) > thres:\n",
        "    abnormalities_x.append(i)\n",
        "    abnormalities_y.append(diff[i])\n",
        "\n",
        "# Plot all the differences\n",
        "plt.plot(diff, color='b')\n",
        "# Mark the abnormalities in red\n",
        "plt.scatter(abnormalities_x, abnormalities_y, color='r')\n",
        "plt.ylabel('Abnormal Returns')\n",
        "plt.show()\n",
        "\n",
        "# Print the maximum difference in prediction and actual\n",
        "print('Max Difference:\\t', max(abs(diff)))\n",
        "# Print the minimum difference in prediction and actual\n",
        "print('Min Difference:\\t', min(abs(diff)))\n",
        "# Print the average difference in prediction and actual\n",
        "print('Avg Difference:\\t', sum(abs(diff))/len(diff))"
      ],
      "execution_count": null,
      "outputs": [
        {
          "output_type": "display_data",
          "data": {
            "image/png": "[encoded data removed]",
            "text/plain": [
              "<Figure size 432x288 with 1 Axes>"
            ]
          },
          "metadata": {
            "tags": [],
            "needs_background": "light"
          }
        },
        {
          "output_type": "stream",
          "text": [
            "Max Difference:\t 160.46374470312503\n",
            "Min Difference:\t 0.02832042968748283\n",
            "Avg Difference:\t 24.908797621785492\n"
          ],
          "name": "stdout"
        }
      ]
    },
    {
      "cell_type": "code",
      "metadata": {
        "id": "l7qmlr4SB6_V",
        "colab": {
          "base_uri": "https://localhost:8080/",
          "height": 1000
        },
        "outputId": "b824bc9c-4dca-49cc-cd30-bbf14715889a"
      },
      "source": [
        "# Train the CNN-LSTM Hybrid model for 100 epochs\n",
        "\n",
        "cnnhistory = cnnmodel.fit(train_x, train_y, epochs=100, validation_data=(test_x, test_y))"
      ],
      "execution_count": null,
      "outputs": [
        {
          "output_type": "stream",
          "text": [
            "Epoch 1/100\n",
            "71/71 [==============================] - 1s 12ms/step - loss: 0.0179 - accuracy: 0.4655 - val_loss: 0.0216 - val_accuracy: 0.6633\n",
            "Epoch 2/100\n",
            "71/71 [==============================] - 0s 3ms/step - loss: 0.0030 - accuracy: 0.7250 - val_loss: 4.0504e-04 - val_accuracy: 0.9588\n",
            "Epoch 3/100\n",
            "71/71 [==============================] - 0s 3ms/step - loss: 0.0010 - accuracy: 0.8978 - val_loss: 2.1685e-04 - val_accuracy: 0.9763\n",
            "Epoch 4/100\n",
            "71/71 [==============================] - 0s 3ms/step - loss: 8.9286e-04 - accuracy: 0.9038 - val_loss: 3.5838e-04 - val_accuracy: 0.9637\n",
            "Epoch 5/100\n",
            "71/71 [==============================] - 0s 3ms/step - loss: 6.5262e-04 - accuracy: 0.9119 - val_loss: 3.6514e-04 - val_accuracy: 0.9632\n",
            "Epoch 6/100\n",
            "71/71 [==============================] - 0s 3ms/step - loss: 6.0933e-04 - accuracy: 0.9150 - val_loss: 2.1001e-04 - val_accuracy: 0.9763\n",
            "Epoch 7/100\n",
            "71/71 [==============================] - 0s 3ms/step - loss: 5.1951e-04 - accuracy: 0.9200 - val_loss: 2.0339e-04 - val_accuracy: 0.9771\n",
            "Epoch 8/100\n",
            "71/71 [==============================] - 0s 3ms/step - loss: 4.5059e-04 - accuracy: 0.9234 - val_loss: 3.5659e-04 - val_accuracy: 0.9635\n",
            "Epoch 9/100\n",
            "71/71 [==============================] - 0s 3ms/step - loss: 4.7589e-04 - accuracy: 0.9230 - val_loss: 2.5498e-04 - val_accuracy: 0.9717\n",
            "Epoch 10/100\n",
            "71/71 [==============================] - 0s 3ms/step - loss: 3.9350e-04 - accuracy: 0.9257 - val_loss: 1.9771e-04 - val_accuracy: 0.9769\n",
            "Epoch 11/100\n",
            "71/71 [==============================] - 0s 3ms/step - loss: 3.8915e-04 - accuracy: 0.9262 - val_loss: 2.0744e-04 - val_accuracy: 0.9757\n",
            "Epoch 12/100\n",
            "71/71 [==============================] - 0s 3ms/step - loss: 3.6278e-04 - accuracy: 0.9282 - val_loss: 1.7197e-04 - val_accuracy: 0.9786\n",
            "Epoch 13/100\n",
            "71/71 [==============================] - 0s 3ms/step - loss: 3.2886e-04 - accuracy: 0.9272 - val_loss: 1.7835e-04 - val_accuracy: 0.9782\n",
            "Epoch 14/100\n",
            "71/71 [==============================] - 0s 3ms/step - loss: 3.4354e-04 - accuracy: 0.9278 - val_loss: 2.4832e-04 - val_accuracy: 0.9707\n",
            "Epoch 15/100\n",
            "71/71 [==============================] - 0s 3ms/step - loss: 3.3431e-04 - accuracy: 0.9287 - val_loss: 1.8740e-04 - val_accuracy: 0.9765\n",
            "Epoch 16/100\n",
            "71/71 [==============================] - 0s 3ms/step - loss: 2.6916e-04 - accuracy: 0.9319 - val_loss: 1.5888e-04 - val_accuracy: 0.9790\n",
            "Epoch 17/100\n",
            "71/71 [==============================] - 0s 3ms/step - loss: 2.6700e-04 - accuracy: 0.9306 - val_loss: 1.5826e-04 - val_accuracy: 0.9789\n",
            "Epoch 18/100\n",
            "71/71 [==============================] - 0s 3ms/step - loss: 2.6042e-04 - accuracy: 0.9322 - val_loss: 2.4599e-04 - val_accuracy: 0.9698\n",
            "Epoch 19/100\n",
            "71/71 [==============================] - 0s 3ms/step - loss: 3.0464e-04 - accuracy: 0.9288 - val_loss: 1.5077e-04 - val_accuracy: 0.9791\n",
            "Epoch 20/100\n",
            "71/71 [==============================] - 0s 3ms/step - loss: 2.5764e-04 - accuracy: 0.9320 - val_loss: 1.9328e-04 - val_accuracy: 0.9751\n",
            "Epoch 21/100\n",
            "71/71 [==============================] - 0s 3ms/step - loss: 2.7159e-04 - accuracy: 0.9321 - val_loss: 1.3970e-04 - val_accuracy: 0.9801\n",
            "Epoch 22/100\n",
            "71/71 [==============================] - 0s 3ms/step - loss: 2.5028e-04 - accuracy: 0.9327 - val_loss: 1.4868e-04 - val_accuracy: 0.9789\n",
            "Epoch 23/100\n",
            "71/71 [==============================] - 0s 3ms/step - loss: 2.5717e-04 - accuracy: 0.9323 - val_loss: 2.1463e-04 - val_accuracy: 0.9723\n",
            "Epoch 24/100\n",
            "71/71 [==============================] - 0s 3ms/step - loss: 2.6425e-04 - accuracy: 0.9312 - val_loss: 1.3864e-04 - val_accuracy: 0.9797\n",
            "Epoch 25/100\n",
            "71/71 [==============================] - 0s 3ms/step - loss: 2.5444e-04 - accuracy: 0.9330 - val_loss: 1.5085e-04 - val_accuracy: 0.9782\n",
            "Epoch 26/100\n",
            "71/71 [==============================] - 0s 3ms/step - loss: 2.3629e-04 - accuracy: 0.9342 - val_loss: 6.1061e-04 - val_accuracy: 0.9476\n",
            "Epoch 27/100\n",
            "71/71 [==============================] - 0s 3ms/step - loss: 2.5615e-04 - accuracy: 0.9339 - val_loss: 2.3428e-04 - val_accuracy: 0.9708\n",
            "Epoch 28/100\n",
            "71/71 [==============================] - 0s 3ms/step - loss: 2.4495e-04 - accuracy: 0.9331 - val_loss: 1.6464e-04 - val_accuracy: 0.9768\n",
            "Epoch 29/100\n",
            "71/71 [==============================] - 0s 3ms/step - loss: 2.2907e-04 - accuracy: 0.9340 - val_loss: 2.7558e-04 - val_accuracy: 0.9680\n",
            "Epoch 30/100\n",
            "71/71 [==============================] - 0s 3ms/step - loss: 2.2727e-04 - accuracy: 0.9366 - val_loss: 4.5876e-04 - val_accuracy: 0.9561\n",
            "Epoch 31/100\n",
            "71/71 [==============================] - 0s 3ms/step - loss: 2.3320e-04 - accuracy: 0.9359 - val_loss: 2.0730e-04 - val_accuracy: 0.9731\n",
            "Epoch 32/100\n",
            "71/71 [==============================] - 0s 3ms/step - loss: 2.2911e-04 - accuracy: 0.9340 - val_loss: 3.1588e-04 - val_accuracy: 0.9653\n",
            "Epoch 33/100\n",
            "71/71 [==============================] - 0s 3ms/step - loss: 2.3320e-04 - accuracy: 0.9343 - val_loss: 3.7416e-04 - val_accuracy: 0.9613\n",
            "Epoch 34/100\n",
            "71/71 [==============================] - 0s 3ms/step - loss: 2.2392e-04 - accuracy: 0.9359 - val_loss: 2.6264e-04 - val_accuracy: 0.9688\n",
            "Epoch 35/100\n",
            "71/71 [==============================] - 0s 3ms/step - loss: 2.4113e-04 - accuracy: 0.9352 - val_loss: 3.6326e-04 - val_accuracy: 0.9622\n",
            "Epoch 36/100\n",
            "71/71 [==============================] - 0s 3ms/step - loss: 2.1822e-04 - accuracy: 0.9346 - val_loss: 3.2129e-04 - val_accuracy: 0.9651\n",
            "Epoch 37/100\n",
            "71/71 [==============================] - 0s 3ms/step - loss: 2.1429e-04 - accuracy: 0.9365 - val_loss: 3.2650e-04 - val_accuracy: 0.9648\n",
            "Epoch 38/100\n",
            "71/71 [==============================] - 0s 3ms/step - loss: 2.2382e-04 - accuracy: 0.9345 - val_loss: 3.7429e-04 - val_accuracy: 0.9620\n",
            "Epoch 39/100\n",
            "71/71 [==============================] - 0s 3ms/step - loss: 2.2155e-04 - accuracy: 0.9350 - val_loss: 5.4327e-04 - val_accuracy: 0.9526\n",
            "Epoch 40/100\n",
            "71/71 [==============================] - 0s 3ms/step - loss: 2.2226e-04 - accuracy: 0.9352 - val_loss: 3.2563e-04 - val_accuracy: 0.9650\n",
            "Epoch 41/100\n",
            "71/71 [==============================] - 0s 3ms/step - loss: 2.2292e-04 - accuracy: 0.9341 - val_loss: 6.7164e-04 - val_accuracy: 0.9468\n",
            "Epoch 42/100\n",
            "71/71 [==============================] - 0s 3ms/step - loss: 2.2305e-04 - accuracy: 0.9370 - val_loss: 3.9158e-04 - val_accuracy: 0.9613\n",
            "Epoch 43/100\n",
            "71/71 [==============================] - 0s 3ms/step - loss: 2.1760e-04 - accuracy: 0.9360 - val_loss: 3.7533e-04 - val_accuracy: 0.9621\n",
            "Epoch 44/100\n",
            "71/71 [==============================] - 0s 3ms/step - loss: 2.3442e-04 - accuracy: 0.9348 - val_loss: 4.7114e-04 - val_accuracy: 0.9565\n",
            "Epoch 45/100\n",
            "71/71 [==============================] - 0s 3ms/step - loss: 2.2771e-04 - accuracy: 0.9354 - val_loss: 7.0604e-04 - val_accuracy: 0.9451\n",
            "Epoch 46/100\n",
            "71/71 [==============================] - 0s 3ms/step - loss: 2.2627e-04 - accuracy: 0.9349 - val_loss: 3.8492e-04 - val_accuracy: 0.9619\n",
            "Epoch 47/100\n",
            "71/71 [==============================] - 0s 3ms/step - loss: 2.1436e-04 - accuracy: 0.9352 - val_loss: 2.3303e-04 - val_accuracy: 0.9717\n",
            "Epoch 48/100\n",
            "71/71 [==============================] - 0s 3ms/step - loss: 2.2213e-04 - accuracy: 0.9369 - val_loss: 3.0205e-04 - val_accuracy: 0.9668\n",
            "Epoch 49/100\n",
            "71/71 [==============================] - 0s 3ms/step - loss: 2.1714e-04 - accuracy: 0.9352 - val_loss: 4.5445e-04 - val_accuracy: 0.9586\n",
            "Epoch 50/100\n",
            "71/71 [==============================] - 0s 3ms/step - loss: 2.1049e-04 - accuracy: 0.9369 - val_loss: 6.2847e-04 - val_accuracy: 0.9492\n",
            "Epoch 51/100\n",
            "71/71 [==============================] - 0s 3ms/step - loss: 2.2306e-04 - accuracy: 0.9349 - val_loss: 9.4940e-04 - val_accuracy: 0.9357\n",
            "Epoch 52/100\n",
            "71/71 [==============================] - 0s 3ms/step - loss: 2.2259e-04 - accuracy: 0.9352 - val_loss: 3.8461e-04 - val_accuracy: 0.9622\n",
            "Epoch 53/100\n",
            "71/71 [==============================] - 0s 3ms/step - loss: 2.1461e-04 - accuracy: 0.9375 - val_loss: 7.6074e-04 - val_accuracy: 0.9431\n",
            "Epoch 54/100\n",
            "71/71 [==============================] - 0s 3ms/step - loss: 2.1603e-04 - accuracy: 0.9362 - val_loss: 4.7888e-04 - val_accuracy: 0.9568\n",
            "Epoch 55/100\n",
            "71/71 [==============================] - 0s 3ms/step - loss: 2.2170e-04 - accuracy: 0.9355 - val_loss: 2.5127e-04 - val_accuracy: 0.9706\n",
            "Epoch 56/100\n",
            "71/71 [==============================] - 0s 3ms/step - loss: 2.2280e-04 - accuracy: 0.9347 - val_loss: 8.3016e-04 - val_accuracy: 0.9401\n",
            "Epoch 57/100\n",
            "71/71 [==============================] - 0s 3ms/step - loss: 2.1736e-04 - accuracy: 0.9371 - val_loss: 5.4909e-04 - val_accuracy: 0.9534\n",
            "Epoch 58/100\n",
            "71/71 [==============================] - 0s 3ms/step - loss: 2.2705e-04 - accuracy: 0.9344 - val_loss: 5.2574e-04 - val_accuracy: 0.9544\n",
            "Epoch 59/100\n",
            "71/71 [==============================] - 0s 3ms/step - loss: 2.1024e-04 - accuracy: 0.9352 - val_loss: 4.0944e-04 - val_accuracy: 0.9608\n",
            "Epoch 60/100\n",
            "71/71 [==============================] - 0s 3ms/step - loss: 2.1824e-04 - accuracy: 0.9356 - val_loss: 6.6126e-04 - val_accuracy: 0.9477\n",
            "Epoch 61/100\n",
            "71/71 [==============================] - 0s 3ms/step - loss: 2.2327e-04 - accuracy: 0.9351 - val_loss: 5.5502e-04 - val_accuracy: 0.9526\n",
            "Epoch 62/100\n",
            "71/71 [==============================] - 0s 3ms/step - loss: 2.3060e-04 - accuracy: 0.9336 - val_loss: 4.3777e-04 - val_accuracy: 0.9586\n",
            "Epoch 63/100\n",
            "71/71 [==============================] - 0s 3ms/step - loss: 2.1800e-04 - accuracy: 0.9371 - val_loss: 1.7929e-04 - val_accuracy: 0.9755\n",
            "Epoch 64/100\n",
            "71/71 [==============================] - 0s 3ms/step - loss: 2.2070e-04 - accuracy: 0.9347 - val_loss: 4.6184e-04 - val_accuracy: 0.9581\n",
            "Epoch 65/100\n",
            "71/71 [==============================] - 0s 3ms/step - loss: 2.0474e-04 - accuracy: 0.9359 - val_loss: 4.7282e-04 - val_accuracy: 0.9576\n",
            "Epoch 66/100\n",
            "71/71 [==============================] - 0s 3ms/step - loss: 2.1496e-04 - accuracy: 0.9356 - val_loss: 2.3081e-04 - val_accuracy: 0.9722\n",
            "Epoch 67/100\n",
            "71/71 [==============================] - 0s 3ms/step - loss: 2.2400e-04 - accuracy: 0.9353 - val_loss: 4.2304e-04 - val_accuracy: 0.9606\n",
            "Epoch 68/100\n",
            "71/71 [==============================] - 0s 3ms/step - loss: 2.0966e-04 - accuracy: 0.9358 - val_loss: 6.0561e-04 - val_accuracy: 0.9507\n",
            "Epoch 69/100\n",
            "71/71 [==============================] - 0s 3ms/step - loss: 2.0480e-04 - accuracy: 0.9378 - val_loss: 6.6367e-04 - val_accuracy: 0.9475\n",
            "Epoch 70/100\n",
            "71/71 [==============================] - 0s 3ms/step - loss: 1.9809e-04 - accuracy: 0.9386 - val_loss: 5.6378e-04 - val_accuracy: 0.9523\n",
            "Epoch 71/100\n",
            "71/71 [==============================] - 0s 3ms/step - loss: 2.1865e-04 - accuracy: 0.9376 - val_loss: 2.6173e-04 - val_accuracy: 0.9698\n",
            "Epoch 72/100\n",
            "71/71 [==============================] - 0s 3ms/step - loss: 2.1065e-04 - accuracy: 0.9354 - val_loss: 5.2726e-04 - val_accuracy: 0.9541\n",
            "Epoch 73/100\n",
            "71/71 [==============================] - 0s 3ms/step - loss: 2.0089e-04 - accuracy: 0.9388 - val_loss: 3.5172e-04 - val_accuracy: 0.9646\n",
            "Epoch 74/100\n",
            "71/71 [==============================] - 0s 3ms/step - loss: 2.0611e-04 - accuracy: 0.9384 - val_loss: 7.5521e-04 - val_accuracy: 0.9431\n",
            "Epoch 75/100\n",
            "71/71 [==============================] - 0s 3ms/step - loss: 2.0963e-04 - accuracy: 0.9379 - val_loss: 6.1607e-04 - val_accuracy: 0.9499\n",
            "Epoch 76/100\n",
            "71/71 [==============================] - 0s 3ms/step - loss: 2.1514e-04 - accuracy: 0.9358 - val_loss: 7.2465e-04 - val_accuracy: 0.9450\n",
            "Epoch 77/100\n",
            "71/71 [==============================] - 0s 3ms/step - loss: 2.0026e-04 - accuracy: 0.9391 - val_loss: 2.5170e-04 - val_accuracy: 0.9706\n",
            "Epoch 78/100\n",
            "71/71 [==============================] - 0s 3ms/step - loss: 2.0455e-04 - accuracy: 0.9376 - val_loss: 5.1661e-04 - val_accuracy: 0.9545\n",
            "Epoch 79/100\n",
            "71/71 [==============================] - 0s 3ms/step - loss: 2.1449e-04 - accuracy: 0.9365 - val_loss: 5.4664e-04 - val_accuracy: 0.9532\n",
            "Epoch 80/100\n",
            "71/71 [==============================] - 0s 3ms/step - loss: 2.1052e-04 - accuracy: 0.9366 - val_loss: 2.4884e-04 - val_accuracy: 0.9712\n",
            "Epoch 81/100\n",
            "71/71 [==============================] - 0s 3ms/step - loss: 2.1870e-04 - accuracy: 0.9355 - val_loss: 6.1087e-04 - val_accuracy: 0.9505\n",
            "Epoch 82/100\n",
            "71/71 [==============================] - 0s 3ms/step - loss: 1.9898e-04 - accuracy: 0.9388 - val_loss: 7.8076e-04 - val_accuracy: 0.9427\n",
            "Epoch 83/100\n",
            "71/71 [==============================] - 0s 3ms/step - loss: 2.3173e-04 - accuracy: 0.9339 - val_loss: 7.0424e-04 - val_accuracy: 0.9467\n",
            "Epoch 84/100\n",
            "71/71 [==============================] - 0s 3ms/step - loss: 2.1185e-04 - accuracy: 0.9378 - val_loss: 6.7477e-04 - val_accuracy: 0.9476\n",
            "Epoch 85/100\n",
            "71/71 [==============================] - 0s 3ms/step - loss: 1.9681e-04 - accuracy: 0.9385 - val_loss: 8.4867e-04 - val_accuracy: 0.9401\n",
            "Epoch 86/100\n",
            "71/71 [==============================] - 0s 3ms/step - loss: 2.0006e-04 - accuracy: 0.9376 - val_loss: 3.9926e-04 - val_accuracy: 0.9624\n",
            "Epoch 87/100\n",
            "71/71 [==============================] - 0s 3ms/step - loss: 2.0839e-04 - accuracy: 0.9372 - val_loss: 6.9395e-04 - val_accuracy: 0.9460\n",
            "Epoch 88/100\n",
            "71/71 [==============================] - 0s 3ms/step - loss: 2.0159e-04 - accuracy: 0.9376 - val_loss: 3.5842e-04 - val_accuracy: 0.9642\n",
            "Epoch 89/100\n",
            "71/71 [==============================] - 0s 3ms/step - loss: 1.9893e-04 - accuracy: 0.9371 - val_loss: 5.5482e-04 - val_accuracy: 0.9536\n",
            "Epoch 90/100\n",
            "71/71 [==============================] - 0s 3ms/step - loss: 2.0107e-04 - accuracy: 0.9376 - val_loss: 3.9852e-04 - val_accuracy: 0.9618\n",
            "Epoch 91/100\n",
            "71/71 [==============================] - 0s 3ms/step - loss: 2.0479e-04 - accuracy: 0.9374 - val_loss: 9.2994e-04 - val_accuracy: 0.9366\n",
            "Epoch 92/100\n",
            "71/71 [==============================] - 0s 3ms/step - loss: 2.0980e-04 - accuracy: 0.9376 - val_loss: 6.6771e-04 - val_accuracy: 0.9476\n",
            "Epoch 93/100\n",
            "71/71 [==============================] - 0s 3ms/step - loss: 1.9918e-04 - accuracy: 0.9384 - val_loss: 6.2426e-04 - val_accuracy: 0.9505\n",
            "Epoch 94/100\n",
            "71/71 [==============================] - 0s 3ms/step - loss: 2.0392e-04 - accuracy: 0.9380 - val_loss: 9.7031e-04 - val_accuracy: 0.9347\n",
            "Epoch 95/100\n",
            "71/71 [==============================] - 0s 3ms/step - loss: 1.9980e-04 - accuracy: 0.9380 - val_loss: 4.7816e-04 - val_accuracy: 0.9589\n",
            "Epoch 96/100\n",
            "71/71 [==============================] - 0s 3ms/step - loss: 2.0868e-04 - accuracy: 0.9363 - val_loss: 0.0010 - val_accuracy: 0.9337\n",
            "Epoch 97/100\n",
            "71/71 [==============================] - 0s 3ms/step - loss: 2.0894e-04 - accuracy: 0.9370 - val_loss: 5.7709e-04 - val_accuracy: 0.9527\n",
            "Epoch 98/100\n",
            "71/71 [==============================] - 0s 3ms/step - loss: 2.0933e-04 - accuracy: 0.9389 - val_loss: 3.8619e-04 - val_accuracy: 0.9628\n",
            "Epoch 99/100\n",
            "71/71 [==============================] - 0s 3ms/step - loss: 2.0734e-04 - accuracy: 0.9367 - val_loss: 6.0675e-04 - val_accuracy: 0.9506\n",
            "Epoch 100/100\n",
            "71/71 [==============================] - 0s 3ms/step - loss: 1.9604e-04 - accuracy: 0.9392 - val_loss: 6.5773e-04 - val_accuracy: 0.9482\n"
          ],
          "name": "stdout"
        }
      ]
    },
    {
      "cell_type": "code",
      "metadata": {
        "id": "M90RnC0jFlaD",
        "colab": {
          "base_uri": "https://localhost:8080/",
          "height": 513
        },
        "outputId": "ba35050d-2054-41e6-ac6e-3c0b3f7a8852"
      },
      "source": [
        "# Displaying the loss graph\n",
        "\n",
        "import matplotlib.pyplot as plt\n",
        "# Plot the Loss values\n",
        "plt.plot(cnnhistory.history['loss'])\n",
        "# Label the Y value as Loss\n",
        "plt.ylabel('Loss')\n",
        "# Label the graph as Loss\n",
        "plt.legend(['Loss'])\n",
        "plt.show()\n",
        "\n",
        "# Displaying the Accuracy graph\n",
        "\n",
        "import matplotlib.pyplot as plt\n",
        "# Plot the accuracy values\n",
        "plt.plot(cnnhistory.history['accuracy'], color='r')\n",
        "# Label the Y value as accuracy\n",
        "plt.ylabel('Accuracy')\n",
        "# Label the graph as accuracy\n",
        "plt.legend(['Accuracy'])\n",
        "plt.show()"
      ],
      "execution_count": null,
      "outputs": [
        {
          "output_type": "display_data",
          "data": {
            "image/png": "[encoded data removed]",
            "text/plain": [
              "<Figure size 432x288 with 1 Axes>"
            ]
          },
          "metadata": {
            "tags": [],
            "needs_background": "light"
          }
        },
        {
          "output_type": "display_data",
          "data": {
            "image/png": "[encoded data removed]",
            "text/plain": [
              "<Figure size 432x288 with 1 Axes>"
            ]
          },
          "metadata": {
            "tags": [],
            "needs_background": "light"
          }
        }
      ]
    },
    {
      "cell_type": "code",
      "metadata": {
        "id": "5zJopSKKGKmz",
        "colab": {
          "base_uri": "https://localhost:8080/",
          "height": 51
        },
        "outputId": "441770b6-f390-4c10-c109-a6b05508fcf3"
      },
      "source": [
        "test_loss = cnnmodel.evaluate(test_x, test_y)\n",
        "print(\"Test Loss for CNN-LSTM:\\t\", test_loss)"
      ],
      "execution_count": null,
      "outputs": [
        {
          "output_type": "stream",
          "text": [
            "8/8 [==============================] - 0s 2ms/step - loss: 6.2628e-04\n",
            "Test Loss for CNN-LSTM:\t 0.0006262849201448262\n"
          ],
          "name": "stdout"
        }
      ]
    },
    {
      "cell_type": "code",
      "metadata": {
        "id": "SSTgomVV-Vsl",
        "colab": {
          "base_uri": "https://localhost:8080/",
          "height": 286
        },
        "outputId": "a0703067-e6a7-4a70-ef8f-a6393bc89805"
      },
      "source": [
        "# Get predictions from the trained hybrid model\n",
        "predictions = cnnmodel.predict(np.array(series_x))\n",
        "\n",
        "# Multiply the predictions by the max value to get the original value since these are normalized\n",
        "predictions = predictions.flatten()*maxVals['Adj Close']\n",
        "\n",
        "# Get the actual values\n",
        "actual = series_y*maxVals['Adj Close']\n",
        "\n",
        "print(predictions.shape)\n",
        "\n",
        "# Plot the two graphs\n",
        "\n",
        "import matplotlib.pyplot as plt\n",
        "# Plot the predictions\n",
        "plt.plot(predictions)\n",
        "# Plot the actual values\n",
        "plt.plot(actual)\n",
        "# Label the Y axis as Stock Price\n",
        "plt.ylabel('Stock Price')\n",
        "# Label the plots as predictions and actual\n",
        "plt.legend(['Predictions', 'Actual'])\n",
        "plt.show()"
      ],
      "execution_count": null,
      "outputs": [
        {
          "output_type": "stream",
          "text": [
            "(2510,)\n"
          ],
          "name": "stdout"
        },
        {
          "output_type": "display_data",
          "data": {
            "image/png": "[encoded data removed]",
            "text/plain": [
              "<Figure size 432x288 with 1 Axes>"
            ]
          },
          "metadata": {
            "tags": [],
            "needs_background": "light"
          }
        }
      ]
    },
    {
      "cell_type": "code",
      "metadata": {
        "id": "o9TQhDvw-V25",
        "colab": {
          "base_uri": "https://localhost:8080/",
          "height": 316
        },
        "outputId": "f637b8c7-cf9c-4c25-e646-7304764e59e2"
      },
      "source": [
        "# Calculating the abnormal returns for each prediction\n",
        "diff = np.array([actual[i]-predictions[i] for i in range(len(predictions))])\n",
        "\n",
        "abnormalities_x = []\n",
        "abnormalities_y = []\n",
        "\n",
        "# Set a threshold for abnornality\n",
        "thres = sum(abs(diff))/len(diff)\n",
        "\n",
        "# Iterate over all the differences\n",
        "for i in range(1,len(diff)):\n",
        "  # If difference is greater than threshold, add it to the abnormalities array to be plotted later\n",
        "  if abs(diff[i]) - abs(diff[i-1]) > thres:\n",
        "    abnormalities_x.append(i)\n",
        "    abnormalities_y.append(diff[i])\n",
        "\n",
        "# Plot all the differences\n",
        "plt.plot(diff, color='b')\n",
        "# Mark the abnormalities in red\n",
        "plt.scatter(abnormalities_x, abnormalities_y, color='r')\n",
        "plt.ylabel('Abnormal Returns')\n",
        "plt.show()\n",
        "\n",
        "# Print the maximum difference in prediction and actual\n",
        "print('Max Difference:\\t', max(abs(diff)))\n",
        "# Print the minimum difference in prediction and actual\n",
        "print('Min Difference:\\t', min(abs(diff)))\n",
        "# Print the average difference in prediction and actual\n",
        "print('Avg Difference:\\t', sum(abs(diff))/len(diff))"
      ],
      "execution_count": null,
      "outputs": [
        {
          "output_type": "display_data",
          "data": {
            "image/png": "[encoded data removed]",
            "text/plain": [
              "<Figure size 432x288 with 1 Axes>"
            ]
          },
          "metadata": {
            "tags": [],
            "needs_background": "light"
          }
        },
        {
          "output_type": "stream",
          "text": [
            "Max Difference:\t 160.46374470312503\n",
            "Min Difference:\t 0.02832042968748283\n",
            "Avg Difference:\t 24.908797621785492\n"
          ],
          "name": "stdout"
        }
      ]
    }
  ]
}